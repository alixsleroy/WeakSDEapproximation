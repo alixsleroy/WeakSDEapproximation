{
 "cells": [
  {
   "cell_type": "code",
   "execution_count": null,
   "metadata": {},
   "outputs": [],
   "source": []
  },
  {
   "cell_type": "markdown",
   "metadata": {},
   "source": [
    "### Linear adaptive step-size to verify whether the numerics of the derivation make sense \n",
    "\n",
    "\n",
    "Simulate the dynamics of \n",
    "\n",
    "$$\n",
    "dx = F(x) dt + \\sqrt{2} dW(t)\n",
    "$$\n",
    "\n",
    "using the modified sde : \n",
    "$$\n",
    "dy = g(y)F(y) ds+ g'(y) ds + \\sqrt{2 g(y)} dW(s)\n",
    "$$\n",
    "\n",
    "We define a variable step size: \n",
    "$$\n",
    "\\Delta s = g(x) \\Delta t  \n",
    "$$\n",
    "where: \n",
    "$$\n",
    "g(x) = x \\\\\n",
    "g'(x) = 1\n",
    "$$"
   ]
  }
 ],
 "metadata": {
  "language_info": {
   "name": "python"
  },
  "orig_nbformat": 4
 },
 "nbformat": 4,
 "nbformat_minor": 2
}
