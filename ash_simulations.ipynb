{
 "cells": [
  {
   "cell_type": "code",
   "execution_count": null,
   "metadata": {},
   "outputs": [],
   "source": []
  },
  {
   "cell_type": "markdown",
   "metadata": {},
   "source": [
    "### Ash clouds model\n",
    "We would like to model the dynamics of an ash clouds model from the reference paper. The model of the Ash clouds paper is of the form: \n",
    "$$\n",
    "\\begin{aligned}\n",
    "dx &= u dt \\\\\n",
    "du &= - \\frac{\\partial V}{\\partial x} (x,u) dt - \\lambda(x) u dt + \\sigma(x) dW\n",
    "\\end{aligned}\n",
    "$$\n",
    "Importantly, one need to define the potential of interest: \n",
    "$$\n",
    "V(X,U) = - \\frac{1}{2} \\left[ \\sigma_U^2(X) + U^2 \\log\\left(\\frac{\\sigma^2_U(X)}{\\sigma_U^2(X_{ref})}\\right)\\right]\n",
    "$$\n",
    "\n",
    "And the importantly, we define  that are used in the potential: \n",
    "\n",
    "$$\n",
    "\\sigma_U(X) = \\kappa_\\sigma u_* \\left(1-\\frac{X}{H}\\right)^{\\frac{3}{4}}, \n",
    "$$\n",
    "with $\\kappa_\\sigma = 1.3$ and $u_*=0.2 m/s$. \n",
    "\n",
    "We also define: \n",
    "$$\n",
    "\\tau(X) = \\kappa_\\tau \\frac{X}{\\sigma_U(X)},\n",
    "$$\n",
    "with $\\kappa_\\tau = 0.5$ and \n",
    "$$\n",
    "\\sigma(X) = \\sqrt{\\frac{2 \\sigma_U^2(X)}{\\tau(X)}} \\\\\n",
    "\\rightarrow \\sigma(X) = \\sqrt{\\frac{2 \\sigma_U^3(X)}{\\kappa_\\tau X}}\n",
    "$$\n",
    "and we also have: \n",
    "$$\n",
    "\\lambda(X) = 1/\\tau(X)\n",
    "$$\n",
    "\n",
    "Importantly, we also need to look at the term: \n",
    "$$\n",
    "\\frac{\\partial V(X,U)}{\\partial X} = - \\sigma'_U(X) \\left[\\sigma_U(X) + \\frac{U^2}{\\sigma_U(X)} \\right]\n",
    "$$\n",
    "\n",
    "as well as this term: \n",
    "$$\n",
    "\\sigma'_U(X)=\\frac{-3 \\kappa_\\sigma u_* }{4H} \\left( 1- \\frac{X}{H}\\right)^{-1/4}.\n",
    "$$\n",
    "\n",
    "Both the function $\\sigma_U(X)$ and $\\tau(X)$ requires regularisation for numerical stability purpose: \n",
    "\n",
    "$$\n",
    "\\sigma_U(X) = \\kappa_\\sigma u_* \\left(1-\\frac{X}{H}\\right)^{\\frac{3}{4}}, \n",
    "$$"
   ]
  }
 ],
 "metadata": {
  "language_info": {
   "name": "python"
  },
  "orig_nbformat": 4
 },
 "nbformat": 4,
 "nbformat_minor": 2
}
